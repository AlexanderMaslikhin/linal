{
 "cells": [
  {
   "cell_type": "markdown",
   "id": "f7c36ced",
   "metadata": {},
   "source": [
    "## Часть 1"
   ]
  },
  {
   "cell_type": "markdown",
   "id": "961446df",
   "metadata": {},
   "source": [
    "__1.__ Установите, какие произведения матриц $AB$ и $BA$ определены, и найдите размерности полученных матриц:\n",
    "\n",
    "   а) $A$ — матрица $4\\times 2$, $B$ — матрица $4\\times 2$;\n",
    "    \n",
    "   б) $A$ — матрица $2\\times 5$, $B$ — матрица $5\\times 3$;\n",
    "    \n",
    "   в) $A$ — матрица $8\\times 3$, $B$ — матрица $3\\times 8$;\n",
    "    \n",
    "   г) $A$ — квадратная матрица $4\\times 4$, $B$ — квадратная матрица $4\\times 4$."
   ]
  },
  {
   "cell_type": "markdown",
   "id": "f2bdbdef",
   "metadata": {},
   "source": [
    "<b>Ответ</b><br>\n",
    "а) определены произведения $AB^T$ размер $4\\times4$, $A^TB$ размер $2\\times2$, $BA^T$ размер $4\\times4$, $B^TA$ размер $2\\times2$<br>\n",
    "б) определены $AB$ размер $2\\times3$, $B^TA^T$ размер $3\\times2$<br>\n",
    "в) определены $AB$ размер $8\\times8$, $BA$ размер $3\\times3$, $A^TB^T$ размер $3\\times3$, $B^TA^T$ размер $8\\times8$<br>\n",
    "г) определены все варианты произведений: $AB, A^TB, A^TB^T, BA, B^TA, B^TA^T$, размеры во всех случаях $4\\times4$ "
   ]
  },
  {
   "cell_type": "markdown",
   "id": "067baa1e",
   "metadata": {},
   "source": [
    "__2.__ Найдите сумму и произведение матриц $A=\\begin{pmatrix}\n",
    "1 & -2\\\\ \n",
    "3 & 0\n",
    "\\end{pmatrix}$ и $B=\\begin{pmatrix}\n",
    "4 & -1\\\\ \n",
    "0 & 5\n",
    "\\end{pmatrix}.$\n"
   ]
  },
  {
   "cell_type": "markdown",
   "id": "4e82640f",
   "metadata": {},
   "source": [
    "<b>Ответ</b><br>\n",
    "$A + B = \\begin{pmatrix}\n",
    "(1 + 4) & (-2 - 1)\\\\\n",
    "(3 + 0) & (0 + 5)\n",
    "\\end{pmatrix} = \\begin{pmatrix}\n",
    "5 & -3\\\\\n",
    "3 & 5\n",
    "\\end{pmatrix}$<br><br>\n",
    "$AB = \\begin{pmatrix}\n",
    "(1\\cdot4 + (-2)\\cdot0) & (1\\cdot(-1) + (-2)\\cdot5)\\\\\n",
    "(3\\cdot4 + 0\\cdot0) & (3\\cdot(-1) + 0\\cdot5)\n",
    "\\end{pmatrix}$ = $\\begin{pmatrix}\n",
    "4 & -11\\\\\n",
    "12 & -3\n",
    "\\end{pmatrix}$"
   ]
  },
  {
   "cell_type": "code",
   "execution_count": 9,
   "id": "2bc7741c",
   "metadata": {},
   "outputs": [
    {
     "name": "stdout",
     "output_type": "stream",
     "text": [
      "A:\n",
      " [[ 1 -2]\n",
      " [ 3  0]]\n",
      "B:\n",
      " [[ 4 -1]\n",
      " [ 0  5]]\n",
      "A+B:\n",
      "[[ 5 -3]\n",
      " [ 3  5]]\n",
      "\n",
      "AB:\n",
      " [[  4 -11]\n",
      " [ 12  -3]]\n"
     ]
    }
   ],
   "source": [
    "import numpy as np\n",
    "A = np.array([[1, -2], [3, 0]])\n",
    "B = np.array([[4, -1], [0, 5]])\n",
    "print(f'A:\\n {A}', f'B:\\n {B}', f'A+B:\\n{A+B}\\n',f'AB:\\n {A @ B}', sep='\\n')"
   ]
  },
  {
   "cell_type": "markdown",
   "id": "1cf3a4a2",
   "metadata": {},
   "source": [
    "__3.__ Из закономерностей сложения и умножения матриц на число можно сделать вывод, что матрицы одного размера образуют линейное пространство. Вычислите линейную комбинацию $3A-2B+4C$ для матриц $A=\\begin{pmatrix}\n",
    "1 & 7\\\\ \n",
    "3 & -6\n",
    "\\end{pmatrix}$, $B=\\begin{pmatrix}\n",
    "0 & 5\\\\ \n",
    "2 & -1\n",
    "\\end{pmatrix}$, $C=\\begin{pmatrix}\n",
    "2 & -4\\\\ \n",
    "1 & 1\n",
    "\\end{pmatrix}.$\n",
    "    "
   ]
  },
  {
   "cell_type": "markdown",
   "id": "36dbd4ed",
   "metadata": {},
   "source": [
    "<b>Ответ</b><br>\n",
    "$3A - 2B +4C = \\begin{pmatrix}\n",
    "(3\\cdot1 - 2\\cdot0 + 4\\cdot2) & (3\\cdot7 - 2\\cdot5 + 4\\cdot(-4))\\\\\n",
    "(3\\cdot3 - 2\\cdot2 + 4\\cdot1) & (3\\cdot(-6) - 2\\cdot(-1) + 4\\cdot1)\n",
    "\\end{pmatrix}$ = $\\begin{pmatrix}\n",
    "11 & -5\\\\\n",
    "9 & -12\n",
    "\\end{pmatrix}$"
   ]
  },
  {
   "cell_type": "code",
   "execution_count": 2,
   "id": "dcec713a",
   "metadata": {},
   "outputs": [
    {
     "name": "stdout",
     "output_type": "stream",
     "text": [
      "[[ 11  -5]\n",
      " [  9 -12]]\n"
     ]
    }
   ],
   "source": [
    "A = np.array([[1, 7], [3, -6]])\n",
    "B = np.array([[0, 5], [2, -1]])\n",
    "C = np.array([[2, -4], [1, 1]])\n",
    "print(3*A - 2*B + 4*C)"
   ]
  },
  {
   "cell_type": "markdown",
   "id": "5a8537d3",
   "metadata": {},
   "source": [
    "__4.__ Дана матрица $A=\\begin{pmatrix}\n",
    "4 & 1\\\\ \n",
    "5 & -2\\\\ \n",
    "2 & 3\n",
    "\\end{pmatrix}$.\n",
    "Вычислите $AA^{T}$ и $A^{T}A$."
   ]
  },
  {
   "cell_type": "markdown",
   "id": "504fb15a",
   "metadata": {},
   "source": [
    "<b>Ответ</b><br>\n",
    "$A^T = \\begin{pmatrix}\n",
    "4 & 5 & 2\\\\\n",
    "1 & -2 & 3\n",
    "\\end{pmatrix}$<br><br>\n",
    "$AA^T = \\begin{pmatrix}\n",
    "(4^2 + 1^2) & (4\\cdot5 - 1\\cdot2) & (4\\cdot2 + 1\\cdot3)\\\\\n",
    "(5\\cdot4 - 2\\cdot1) & (5^2 +(-2)^2) & (5\\cdot2 - 2\\cdot3)\\\\\n",
    "(2\\cdot4 + 3\\cdot1) & (2\\cdot5 - 3\\cdot2) & (2^2 + 3^3)\n",
    "\\end{pmatrix}$ = $\\begin{pmatrix}\n",
    "17 & 18 & 11\\\\\n",
    "18 & 29 & 4 \\\\\n",
    "11 & 4 & 13\\end{pmatrix}$<br><br>\n",
    "$A^TA = \\begin{pmatrix}\n",
    "(4^2 + 5^2 + 2^2) & (4\\cdot1 - 5\\cdot2 + 3\\cdot2)\\\\\n",
    "(1\\cdot4 - 2\\cdot5 + 3\\cdot2) & (1^2 + (-2)^2 + 3^2)\n",
    "\\end{pmatrix}$ = $\\begin{pmatrix}\n",
    "45 & 0\\\\\n",
    "0 & 14\n",
    "\\end{pmatrix}$<br>\n"
   ]
  },
  {
   "cell_type": "code",
   "execution_count": 3,
   "id": "ccef6907",
   "metadata": {},
   "outputs": [
    {
     "name": "stdout",
     "output_type": "stream",
     "text": [
      "A:\n",
      "[[ 4  1]\n",
      " [ 5 -2]\n",
      " [ 2  3]], \n",
      " A_transposed:\n",
      "[[ 4  5  2]\n",
      " [ 1 -2  3]],\n",
      "A*A_transposed:\n",
      "[[17 18 11]\n",
      " [18 29  4]\n",
      " [11  4 13]],\n",
      "A_transposed*A:\n",
      "[[45  0]\n",
      " [ 0 14]]\n"
     ]
    }
   ],
   "source": [
    "A = np.array([[4, 1], [5, -2], [2, 3]])\n",
    "print(f'A:\\n{A}, \\n A_transposed:\\n{A.T},\\nA*A_transposed:\\n{A @ A.T},\\nA_transposed*A:\\n{A.T @ A}')"
   ]
  },
  {
   "cell_type": "markdown",
   "id": "277cfcd8",
   "metadata": {},
   "source": [
    "__5*.__ Напишите на Python функцию для перемножения двух произвольных матриц, не используя NumPy."
   ]
  },
  {
   "cell_type": "code",
   "execution_count": 4,
   "id": "88f23aef",
   "metadata": {},
   "outputs": [
    {
     "name": "stdout",
     "output_type": "stream",
     "text": [
      "A:\n",
      " [[ 1 -2]\n",
      " [ 3  0]\n",
      " [ 2  7]]\n",
      "B:\n",
      " [[ 4 -1]\n",
      " [ 0  5]]\n",
      "AB:\n",
      " [[  4 -11]\n",
      " [ 12  -3]\n",
      " [  8  33]]\n"
     ]
    }
   ],
   "source": [
    "def matrix_mul(m1, m2):\n",
    "    m1_shape = len(m1), len(m1[0])\n",
    "    m2_shape = len(m2), len(m2[0])\n",
    "    assert m1_shape[1] == m2_shape[0], \"Cannot multiply matrices, wrong shapes!\"\n",
    "    result = []\n",
    "    for i in range(m1_shape[0]):\n",
    "        row = []\n",
    "        for j in range(m2_shape[1]):\n",
    "            elem = 0\n",
    "            for k in range(m1_shape[1]):\n",
    "                elem += m1[i][k] * m2[k][j]\n",
    "            row.append(elem)\n",
    "        result.append(row)\n",
    "    return result\n",
    "\n",
    "\n",
    "A = [[1, -2], [3, 0], [2, 7]]\n",
    "B = [[4, -1], [0, 5]]\n",
    "print(f'A:\\n {np.array(A)}', f'B:\\n {np.array(B)}', f'AB:\\n {np.array(matrix_mul(A, B))}', sep='\\n')"
   ]
  },
  {
   "cell_type": "code",
   "execution_count": 5,
   "id": "222da7a0",
   "metadata": {},
   "outputs": [
    {
     "data": {
      "text/plain": [
       "array([[  4, -11],\n",
       "       [ 12,  -3],\n",
       "       [  8,  33]])"
      ]
     },
     "execution_count": 5,
     "metadata": {},
     "output_type": "execute_result"
    }
   ],
   "source": [
    "a = np.array(A)\n",
    "b = np.array(B)\n",
    "a.dot(b)"
   ]
  },
  {
   "cell_type": "markdown",
   "id": "cb7f2107",
   "metadata": {},
   "source": [
    "## Часть 2"
   ]
  },
  {
   "cell_type": "markdown",
   "id": "c823aecc",
   "metadata": {},
   "source": [
    "__1.__ Вычислите определитель:\n",
    "\n",
    "   a)\n",
    "\n",
    "$$\\begin{vmatrix}\n",
    "sinx & -cosx\\\\ \n",
    "cosx & sinx\n",
    "\\end{vmatrix};$$\n",
    "\n",
    "   б)\n",
    "    \n",
    "$$\\begin{vmatrix}\n",
    "4 & 2 & 3\\\\ \n",
    "0 & 5 & 1\\\\ \n",
    "0 & 0 & 9\n",
    "\\end{vmatrix};$$\n",
    "    \n",
    "   в)\n",
    "\n",
    "$$\\begin{vmatrix}\n",
    "1 & 2 & 3\\\\ \n",
    "4 & 5 & 6\\\\ \n",
    "7 & 8 & 9\n",
    "\\end{vmatrix}.$$\n",
    "\n"
   ]
  },
  {
   "cell_type": "markdown",
   "id": "1a82f83e",
   "metadata": {},
   "source": [
    "<b>Ответ</b><br>\n",
    "а) $sin^2(x) + cos^2(x) = 1$<br>\n",
    "б) Матрица треугольная, знаяит $det(A) = 4\\cdot5\\cdot9 = 180$<br>\n",
    "б) $det(A) = 0$ т.к. третья строка линейная комбинация перых двух $A_3 = 2\\cdot A_2 - A_1$"
   ]
  },
  {
   "cell_type": "code",
   "execution_count": 6,
   "id": "266b56e9",
   "metadata": {},
   "outputs": [
    {
     "name": "stdout",
     "output_type": "stream",
     "text": [
      "б) det(A) = 180\n",
      "в) det(A) = 0\n"
     ]
    }
   ],
   "source": [
    "import numpy as np\n",
    "A = np.array([[4, 2, 4], [0, 5, 1], [0, 0, 9]])\n",
    "print(f'б) det(A) = {np.linalg.det(A):.0f}')\n",
    "A = np.array([[1, 2, 3], [4, 5, 6], [7, 8, 9]])\n",
    "print(f'в) det(A) = {np.linalg.det(A):.0f}')"
   ]
  },
  {
   "cell_type": "markdown",
   "id": "111b2449",
   "metadata": {},
   "source": [
    "__2.__ Определитель матрицы $A$ равен $4$. Найдите:\n",
    "\n",
    "   а) $det(A^{2})$;\n",
    "    \n",
    "   б) $det(A^{T})$;\n",
    "    \n",
    "   в) $det(2A)$."
   ]
  },
  {
   "cell_type": "markdown",
   "id": "159eab44",
   "metadata": {},
   "source": [
    "<b>Ответ</b><br>\n",
    "а) $det(A^2) = det(A\\cdot A) = det(A)\\cdot det(A) = det^2(A) = 16$<br>\n",
    "б) $det(A^T) = det(A) = 4$<br>\n",
    "в) $det(2A) = 2det(A) = 8$"
   ]
  },
  {
   "cell_type": "markdown",
   "id": "32a4d85c",
   "metadata": {},
   "source": [
    "__3.__  Докажите, что матрица:\n",
    "\n",
    "$$\\begin{pmatrix}\n",
    "-2 & 7 & -3\\\\ \n",
    "4 & -14 & 6\\\\ \n",
    "-3 & 7 & 13\n",
    "\\end{pmatrix}$$\n",
    "\n",
    "вырожденная."
   ]
  },
  {
   "cell_type": "markdown",
   "id": "931b5086",
   "metadata": {},
   "source": [
    "<b>Ответ</b><br>\n",
    "Определитель равен нулю, т.к. первые две строки линейно-зависимы. Вторая строка равна первой, умноженной на -2"
   ]
  },
  {
   "cell_type": "markdown",
   "id": "a3461104",
   "metadata": {},
   "source": [
    "__4.__ Найдите ранг матрицы:\n",
    "\n",
    "   а) $\\begin{pmatrix}\n",
    "1 & 2 & 3\\\\ \n",
    "1 & 1 & 1\\\\ \n",
    "2 & 3 & 4\n",
    "\\end{pmatrix};$\n",
    "\n",
    "   б) $\\begin{pmatrix}\n",
    "0 & 0 & 2 & 1\\\\ \n",
    "0 & 0 & 2 & 2\\\\ \n",
    "0 & 0 & 4 & 3\\\\ \n",
    "2 & 3 & 5 & 6\n",
    "\\end{pmatrix}.$"
   ]
  },
  {
   "cell_type": "markdown",
   "id": "fbba7fbd",
   "metadata": {},
   "source": [
    "<b>Ответ</b><br>\n",
    "а) определитель матрицы равен нулю, так как третья строка равна сумме первых двух. Ранг матрицы 2 <br>\n",
    "б) определитель всей матрицы равен нулю, так как третья строка равна сумме первых двух. Ранг матрицы 3"
   ]
  },
  {
   "cell_type": "code",
   "execution_count": 7,
   "id": "1e9c4049",
   "metadata": {},
   "outputs": [
    {
     "name": "stdout",
     "output_type": "stream",
     "text": [
      "A:\n",
      " [[1 2 3]\n",
      " [1 1 1]\n",
      " [2 3 4]], rank = 2\n",
      "B:\n",
      " [[0 0 2 1]\n",
      " [0 0 2 2]\n",
      " [0 0 4 3]\n",
      " [2 3 5 6]], rank = 3\n"
     ]
    }
   ],
   "source": [
    "A = np.array([[1, 2, 3], [1, 1, 1], [2, 3, 4]])\n",
    "B = np.array([[0, 0, 2, 1], [0, 0, 2, 2], [0, 0, 4, 3], [2, 3, 5, 6]])\n",
    "print(f'A:\\n {A}, rank = {np.linalg.matrix_rank(A)}')\n",
    "print(f'B:\\n {B}, rank = {np.linalg.matrix_rank(B)}')"
   ]
  }
 ],
 "metadata": {
  "kernelspec": {
   "display_name": "Python 3 (ipykernel)",
   "language": "python",
   "name": "python3"
  },
  "language_info": {
   "codemirror_mode": {
    "name": "ipython",
    "version": 3
   },
   "file_extension": ".py",
   "mimetype": "text/x-python",
   "name": "python",
   "nbconvert_exporter": "python",
   "pygments_lexer": "ipython3",
   "version": "3.9.7"
  }
 },
 "nbformat": 4,
 "nbformat_minor": 5
}
