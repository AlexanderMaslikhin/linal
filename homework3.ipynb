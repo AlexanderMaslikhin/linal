{
 "cells": [
  {
   "cell_type": "markdown",
   "id": "cded3f3d",
   "metadata": {},
   "source": [
    "__1.__ Найдите собственные векторы и собственные значения для линейного оператора, заданного матрицей:\n",
    "\n",
    "$$A=\\begin{pmatrix}\n",
    "-1 & -6\\\\ \n",
    "2 & 6\n",
    "\\end{pmatrix}.$$"
   ]
  },
  {
   "cell_type": "markdown",
   "id": "836fc11d",
   "metadata": {},
   "source": [
    "### Решение\n",
    "$det(A - \\lambda I) = 0$<br><br>\n",
    "$\\begin{vmatrix}\n",
    "(-1 - \\lambda) & -6\\\\\n",
    "2 & (6 - \\lambda)\n",
    "\\end{vmatrix} = (-1 - \\lambda)(6 - \\lambda) + 12 = 0$<br><br>\n",
    "Из уравнения находим собственные значения $\\lambda_1 = 2, \\lambda_2 = 3$<br><br>\n",
    "Найдем собственные вектора:\n",
    "<br><br>Для $\\lambda_1 = 2$<br>\n",
    "$\\begin{pmatrix}\n",
    "-1 & -6\\\\\n",
    "2 & 6\n",
    "\\end{pmatrix} \\cdot \n",
    "\\begin{pmatrix}\n",
    "x \\\\\n",
    "y\n",
    "\\end{pmatrix} = 2\n",
    "\\begin{pmatrix}\n",
    "x \\\\\n",
    "y\n",
    "\\end{pmatrix}$<br><br>\n",
    "$\\begin{cases}\n",
    "-x - 6y = 2x\\\\\n",
    "2x + 6y = 2y\n",
    "\\end{cases}$, \n",
    "$\\begin{cases}\n",
    "x = -2y\\\\\n",
    "y = y\n",
    "\\end{cases}$<br><br>\n",
    "Первый собственный вектор в общем виде\n",
    "$\\begin{pmatrix}\n",
    "-2y \\\\\n",
    "y\n",
    "\\end{pmatrix}$<br><br>\n",
    "Для $\\lambda_2 = 3$<br>\n",
    "$\\begin{pmatrix}\n",
    "-1 & -6\\\\\n",
    "2 & 6\n",
    "\\end{pmatrix} \\cdot \n",
    "\\begin{pmatrix}\n",
    "x \\\\\n",
    "y\n",
    "\\end{pmatrix} = 3\n",
    "\\begin{pmatrix}\n",
    "x \\\\\n",
    "y\n",
    "\\end{pmatrix}$<br><br>\n",
    "$\\begin{cases}\n",
    "-x - 6y = 3x\\\\\n",
    "2x + 6y = 3y\n",
    "\\end{cases}$, \n",
    "$\\begin{cases}\n",
    "x = -\\frac{3}{2}y\\\\\n",
    "y = y\n",
    "\\end{cases}$<br><br>\n",
    "Второй собственный вектор в общем виде \n",
    "$\\begin{pmatrix}\n",
    "-1.5y \\\\\n",
    "y\n",
    "\\end{pmatrix}$"
   ]
  },
  {
   "cell_type": "code",
   "execution_count": 1,
   "id": "ed9d5a04",
   "metadata": {},
   "outputs": [
    {
     "data": {
      "text/plain": [
       "(array([2., 3.]),\n",
       " array([[-0.89442719,  0.83205029],\n",
       "        [ 0.4472136 , -0.5547002 ]]))"
      ]
     },
     "execution_count": 1,
     "metadata": {},
     "output_type": "execute_result"
    }
   ],
   "source": [
    "import numpy as np\n",
    "A = np.array([[-1, -6], [2, 6]])\n",
    "w, v = np.linalg.eig(A)\n",
    "w, v"
   ]
  },
  {
   "cell_type": "markdown",
   "id": "7316ec17",
   "metadata": {},
   "source": [
    "__2.__ Дан оператор поворота на 180 градусов, задаваемый матрицей:\n",
    "\n",
    "$$A=\\begin{pmatrix}\n",
    "-1 & 0\\\\ \n",
    "0 & -1\n",
    "\\end{pmatrix}.$$\n",
    "\n",
    "Покажите, что __любой__ вектор считается для него собственным."
   ]
  },
  {
   "cell_type": "markdown",
   "id": "fe0b148a",
   "metadata": {},
   "source": [
    " ### Решение\n",
    "\n",
    "$$\\begin{pmatrix}\n",
    "-1 & 0\\\\ \n",
    "0 & -1\n",
    "\\end{pmatrix}\n",
    "\\begin{pmatrix}\n",
    "x\\\\ \n",
    "y\n",
    "\\end{pmatrix} = \\lambda\n",
    "\\begin{pmatrix}\n",
    "x\\\\ \n",
    "y\n",
    "\\end{pmatrix}\n",
    "$$\n",
    " Находим собственные значения $\\lambda_1 = \\lambda_2 = -1$\n",
    "$$\\begin{cases}\n",
    "-x = -x, \\\\\n",
    "-y = -y\n",
    "\\end{cases}$$\n",
    "То есть x и y могут быть любыми"
   ]
  },
  {
   "cell_type": "markdown",
   "id": "8c084aa9",
   "metadata": {},
   "source": [
    "__3.__ Пусть линейный оператор задан матрицей:\n",
    "\n",
    "$$A=\\begin{pmatrix}\n",
    "1 & 1\\\\ \n",
    "-1 & 3\n",
    "\\end{pmatrix}.$$\n",
    "\n",
    "Установите, считается ли вектор $x=(1,1)$ собственным вектором этого линейного оператора.\n",
    "\n"
   ]
  },
  {
   "cell_type": "markdown",
   "id": "b1448e4f",
   "metadata": {},
   "source": [
    "### Решение\n",
    "Найдем собственные значения матрицы:\n",
    "$$\\begin{vmatrix}\n",
    "1-\\lambda & 1\\\\\n",
    "-1 & 3-\\lambda\n",
    "\\end{vmatrix} = (1-\\lambda)(3-\\lambda) + 1 = 0\n",
    "$$<br><br>\n",
    "$$\\lambda_1 = \\lambda_2 = 2$$<br><br>\n",
    "$$\\begin{pmatrix}\n",
    "1 & 1\\\\ \n",
    "-1 & 3\n",
    "\\end{pmatrix}\n",
    "\\begin{pmatrix}\n",
    "1\\\\\n",
    "1\n",
    "\\end{pmatrix} = 2\n",
    "\\begin{pmatrix}\n",
    "1\\\\\n",
    "1\n",
    "\\end{pmatrix}$$\n",
    "$\\begin{cases} \n",
    "2 = 2\\\\\n",
    "2 = 2\n",
    "\\end{cases}$ Значит вектор является собственным"
   ]
  },
  {
   "cell_type": "markdown",
   "id": "e277a070",
   "metadata": {},
   "source": [
    "**4.** Пусть линейный оператор задан матрицей:\n",
    "\n",
    "$$A=\\begin{pmatrix} 0 & 3 & 0\\\\ 3 & 0 & 0\\\\ 0 & 0 & 3 \\end{pmatrix}.$$\n",
    "\n",
    "Установите, считается ли вектор $x=(3, -3, -4)$ собственным вектором этого линейного оператора."
   ]
  },
  {
   "cell_type": "markdown",
   "id": "dd793242",
   "metadata": {},
   "source": [
    "### Решение\n",
    "Найдем собсвенные значения"
   ]
  },
  {
   "cell_type": "code",
   "execution_count": 2,
   "id": "b49bfe00",
   "metadata": {},
   "outputs": [
    {
     "name": "stdout",
     "output_type": "stream",
     "text": [
      "[ 3. -3.  3.]\n"
     ]
    }
   ],
   "source": [
    "A = np.array([[0, 3, 0], [3, 0, 0], [0, 0, 3]])\n",
    "v, _ = np.linalg.eig(A)\n",
    "print(v)"
   ]
  },
  {
   "cell_type": "markdown",
   "id": "1f807d9e",
   "metadata": {},
   "source": [
    "#### Проверим вектор"
   ]
  },
  {
   "cell_type": "code",
   "execution_count": 3,
   "id": "533f5be2",
   "metadata": {},
   "outputs": [
    {
     "name": "stdout",
     "output_type": "stream",
     "text": [
      "A * vect = [ -9   9 -12]\n",
      "lambda1 * vect = [  9.  -9. -12.]\n",
      "lambda2 * vect = [-9.  9. 12.]\n",
      "lambda3 * vect = [  9.  -9. -12.]\n"
     ]
    }
   ],
   "source": [
    "vect = np.array([3, -3, -4])\n",
    "print(f'A * vect = {A.dot(vect)}')\n",
    "print(f'lambda1 * vect = {v[0] * vect}')\n",
    "print(f'lambda2 * vect = {v[1] * vect}')\n",
    "print(f'lambda3 * vect = {v[2] * vect}')"
   ]
  },
  {
   "cell_type": "markdown",
   "id": "05e9ee77",
   "metadata": {},
   "source": [
    "Вектор не является собственным"
   ]
  },
  {
   "cell_type": "code",
   "execution_count": 5,
   "id": "220e2500",
   "metadata": {},
   "outputs": [
    {
     "data": {
      "text/plain": [
       "array([[ 0.70710678, -0.70710678,  0.        ],\n",
       "       [ 0.70710678,  0.70710678,  0.        ],\n",
       "       [ 0.        ,  0.        ,  1.        ]])"
      ]
     },
     "execution_count": 5,
     "metadata": {},
     "output_type": "execute_result"
    }
   ],
   "source": [
    "b = np.array([[1, 1], [-1, 3]])\n",
    "v, w = np.linalg.eig(A)\n",
    "w"
   ]
  },
  {
   "cell_type": "code",
   "execution_count": null,
   "id": "b19bcd5e",
   "metadata": {},
   "outputs": [],
   "source": []
  }
 ],
 "metadata": {
  "kernelspec": {
   "display_name": "Python 3 (ipykernel)",
   "language": "python",
   "name": "python3"
  },
  "language_info": {
   "codemirror_mode": {
    "name": "ipython",
    "version": 3
   },
   "file_extension": ".py",
   "mimetype": "text/x-python",
   "name": "python",
   "nbconvert_exporter": "python",
   "pygments_lexer": "ipython3",
   "version": "3.9.7"
  }
 },
 "nbformat": 4,
 "nbformat_minor": 5
}
