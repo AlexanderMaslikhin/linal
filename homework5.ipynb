{
 "cells": [
  {
   "cell_type": "markdown",
   "id": "c221e1a9",
   "metadata": {},
   "source": [
    "1. Найдите посредством NumPy SVD для матрицы:\n",
    "\n",
    "$$\\begin{pmatrix}\n",
    "1 & 2 & 0\\\\ \n",
    "0 & 0 & 5\\\\ \n",
    "3 & -4 & 2\\\\ \n",
    "1 & 6 & 5\\\\ \n",
    "0 & 1 & 0\n",
    "\\end{pmatrix}.$$\n",
    "\n",
    "\n",
    "2. Для матрицы из предыдущего задания найдите:\n",
    "\n",
    "    а) евклидову норму;\n",
    "    \n",
    "    б) норму Фробениуса.\n",
    "    "
   ]
  },
  {
   "cell_type": "code",
   "execution_count": 7,
   "id": "68b99563",
   "metadata": {},
   "outputs": [
    {
     "name": "stdout",
     "output_type": "stream",
     "text": [
      "матрица A\n",
      "[[ 1  2  0]\n",
      " [ 0  0  5]\n",
      " [ 3 -4  2]\n",
      " [ 1  6  5]\n",
      " [ 0  1  0]]\n",
      "матрица U\n",
      "[[ 0.17056501  0.15680918 -0.53077508 -0.79905375 -0.16158397]\n",
      " [ 0.39287016 -0.52933945  0.6134793  -0.43375771  0.03082495]\n",
      " [-0.14366152 -0.82449256 -0.52379105  0.14049848  0.07400343]\n",
      " [ 0.88843702  0.06074346 -0.24655277  0.37755832 -0.06042632]\n",
      " [ 0.08125046  0.10831843 -0.08231425 -0.10524851  0.98173958]]\n",
      "матрица D\n",
      "[[8.824869  0.        0.       ]\n",
      " [0.        6.140606  0.       ]\n",
      " [0.        0.        2.5327153]\n",
      " [0.        0.        0.       ]\n",
      " [0.        0.        0.       ]]\n",
      "матрица V\n",
      "[[ 0.07116451 -0.36737824 -0.92734505]\n",
      " [ 0.71702467  0.66514082 -0.20847855]\n",
      " [ 0.69340553 -0.65009301  0.31075368]]\n",
      "проверка \n",
      "[[ 1.00000003e+00  2.00000003e+00  4.44798946e-08]\n",
      " [-4.35033063e-08  1.32951395e-07  5.00000004e+00]\n",
      " [ 2.99999997e+00 -3.99999994e+00  1.99999988e+00]\n",
      " [ 1.00000003e+00  6.00000019e+00  5.00000019e+00]\n",
      " [ 1.07778078e-08  1.00000001e+00  2.65902786e-08]]\n"
     ]
    }
   ],
   "source": [
    "import numpy as np\n",
    "\n",
    "# 1)\n",
    "A = np.array([[1, 2, 0],\n",
    "              [0, 0, 5],\n",
    "              [3, -4, 2],\n",
    "              [1, 6, 5],\n",
    "              [0, 1, 0]])\n",
    "\n",
    "U, s, VT = np.linalg.svd(A)\n",
    "\n",
    "D = np.zeros_like(A, dtype='float32')\n",
    "D[np.diag_indices(min(A.shape))] = s\n",
    "print(f'матрица A\\n{A}')\n",
    "print(f'матрица U\\n{U}')\n",
    "print(f'матрица D\\n{D}')\n",
    "print(f'матрица V\\n{VT.T}')\n",
    "print(f'проверка \\n{U.dot(D).dot(VT)}')"
   ]
  },
  {
   "cell_type": "code",
   "execution_count": 5,
   "id": "8ff83c1c",
   "metadata": {},
   "outputs": [
    {
     "name": "stdout",
     "output_type": "stream",
     "text": [
      "8.824868854820448 11.045361017187265\n",
      "8.824868854820442 11.045361017187261\n"
     ]
    }
   ],
   "source": [
    "# 2)\n",
    "\n",
    "norm_evklid = np.max(s)\n",
    "norm_fro = np.sqrt((s*s).sum())\n",
    "\n",
    "print(norm_evklid, norm_fro)\n",
    "\n",
    "print(np.linalg.norm(A, ord=2), np.linalg.norm(A, ord='fro'))"
   ]
  },
  {
   "cell_type": "code",
   "execution_count": null,
   "id": "1ffeabda",
   "metadata": {},
   "outputs": [],
   "source": []
  }
 ],
 "metadata": {
  "kernelspec": {
   "display_name": "Python 3 (ipykernel)",
   "language": "python",
   "name": "python3"
  },
  "language_info": {
   "codemirror_mode": {
    "name": "ipython",
    "version": 3
   },
   "file_extension": ".py",
   "mimetype": "text/x-python",
   "name": "python",
   "nbconvert_exporter": "python",
   "pygments_lexer": "ipython3",
   "version": "3.9.7"
  }
 },
 "nbformat": 4,
 "nbformat_minor": 5
}
