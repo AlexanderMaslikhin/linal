{
 "cells": [
  {
   "cell_type": "markdown",
   "id": "ab00d647",
   "metadata": {},
   "source": [
    "### Часть 1\n",
    "\n",
    "__1.__ Исследуйте на линейную зависимость:\n",
    "\n",
    "$$f_{1}(x)=e^{x}, f_{2}(x)=1, f_{3}(x)=x+1, f_{4}(x)=x-e^{x}.$$\n"
   ]
  },
  {
   "cell_type": "markdown",
   "id": "73d85faf",
   "metadata": {},
   "source": [
    "$$x - e^{x} = (x + 1) - (1) - (e^{x})$$\n",
    "$$f_{4}(x) = f_3(x) - f_2(x) - f_1(x)$$\n",
    "функции линейно зависимы"
   ]
  },
  {
   "cell_type": "markdown",
   "id": "96c7c6db",
   "metadata": {},
   "source": [
    "__2.__ Исследуйте на линейную зависимость:\n",
    "$$f_{1}(x)=2, f_{2}(x)=x, f_{3}(x)=x^{2}, f_{4}(x)=(x+1)^{2}$$"
   ]
  },
  {
   "cell_type": "markdown",
   "id": "98f71dc7",
   "metadata": {},
   "source": [
    "$$(x + 1)^2 = x^2 + 2x + 1$$\n",
    "$$f_4(x) = f_3(x) + 2f_2(x) + \\frac{1}{2}f_1(x)$$\n",
    "функции линейно зависимы"
   ]
  },
  {
   "cell_type": "markdown",
   "id": "7db8752c",
   "metadata": {},
   "source": [
    "__3.__ Найдите координаты вектора $x = (2, 3, 5)\\in \\mathbb{R}^{3}$ в базисе $b_{1}=(0, 0, 10)$, $b_{2}=(2, 0, 0)$, $b_{3}=(0, 1, 0)$."
   ]
  },
  {
   "cell_type": "markdown",
   "id": "4ac34cfa",
   "metadata": {},
   "source": [
    "$x = \\frac{1}{2}b_1 + b_2 + 3b_3$\n",
    "координаты $(\\frac{1}{2}, 1, 3)$"
   ]
  },
  {
   "cell_type": "markdown",
   "id": "97f1ca3c",
   "metadata": {},
   "source": [
    "__4.__ Найдите координаты вектора $3x^{2}-2x+2\\in\\mathbb{R}^{3}[x]$:\n",
    "\n",
    "а) в базисе $1$, $x$, $x^{2}$;\n",
    "\n",
    "б) в базисе $x^{2}$, $x-1$, $1$."
   ]
  },
  {
   "cell_type": "markdown",
   "id": "0616c807",
   "metadata": {},
   "source": [
    "a) (2, -2, 3)\n",
    "\n",
    "б) перепишем вектор $3x^2 - 2(x - 1) + 0$ \n",
    "\n",
    "координаты будут (3, -2, 0)\n",
    "   "
   ]
  },
  {
   "cell_type": "markdown",
   "id": "183ee5da",
   "metadata": {},
   "source": [
    "__5.__ Установите, считается ли линейным подпространством:\n",
    "\n",
    "а) совокупность всех векторов трёхмерного пространства, у которых по крайней мере одна из первых двух координат равна нулю;\n",
    "    \n",
    "б) все векторы, считающиеся линейными комбинациями данных векторов $\\{u_{1}, u_{2} \\ldots, u_{n}\\}$."
   ]
  },
  {
   "cell_type": "markdown",
   "id": "c8fd02ea",
   "metadata": {},
   "source": [
    "а) попробуем сложить два вектора (1, 0, 1) и (0, 1, 1). В результате получим вектор (1, 1, 2). Условие принадлежности к подпространству не выполняется, занчит эта совокупность не является подпространством\n",
    "\n",
    "б)\n",
    "\n",
    "$a = \\lambda_1u_1 + \\lambda_2u_2 + ... + \\lambda_nu_n$\n",
    "\n",
    "$b = \\mu_1u_1 + \\mu_2u_2 + ... + \\mu_nu_n$\n",
    "\n",
    "$a + b = (\\lambda_1 + \\mu_1)u_1 + (\\lambda_2 + \\mu_2)u_2 + ... (\\lambda_n + \\mu_n)u_n$\n",
    "\n",
    "$\\alpha \\cdot a = \\alpha\\lambda_1u_1 + \\alpha\\lambda_2u_2 + ... \\alpha\\lambda_nu_n$\n",
    "\n",
    "$\\beta \\cdot b = \\beta\\mu_1u_1 + \\beta\\mu_2u_2 + ... \\beta\\mu_nu_n$\n",
    "\n",
    "сумма и умножение на константу также являются линейными комбинациями данных векторов\n",
    "\n",
    "оба условия выполняются, значит совокупность является линейным подпространством"
   ]
  },
  {
   "cell_type": "markdown",
   "id": "943976b0",
   "metadata": {},
   "source": [
    "### Часть 2\n",
    "__1.__ Найдите скалярное произведение векторов $x, y \\in \\mathbb{R}$:<br>\n",
    "а) $x=(0,-3, 6),~y=(-4, 7, 9);$<br>\n",
    "б) $x=(7, -4, 0, 1),~y=(-3, 1, 11, 2).$\n"
   ]
  },
  {
   "cell_type": "markdown",
   "id": "b5be3bf5",
   "metadata": {},
   "source": [
    "a) $(x, y) = 0\\cdot(-4) + (-3)\\cdot7 + 6\\cdot9 = 32$<br>\n",
    "б) $(x, y) = 7\\cdot(-3) + (-4)\\cdot1 + 0\\cdot11 + 1\\cdot2 = -23$"
   ]
  },
  {
   "cell_type": "code",
   "execution_count": 1,
   "id": "11dd9e5c",
   "metadata": {},
   "outputs": [
    {
     "name": "stdout",
     "output_type": "stream",
     "text": [
      "a) 33\n",
      "б) -23\n"
     ]
    }
   ],
   "source": [
    "def vect_scalar(a, b):\n",
    "    result = 0\n",
    "    for x, y in zip(a, b):\n",
    "        result += x * y\n",
    "    return result\n",
    "\n",
    "x = [0, -3, 6]\n",
    "y = [-4, 7, 9]\n",
    "print(f'a) {vect_scalar(x, y)}')\n",
    "x = [7, -4, 0, 1]\n",
    "y = [-3, 1, 11, 2]\n",
    "print(f'б) {vect_scalar(x, y)}')"
   ]
  },
  {
   "cell_type": "markdown",
   "id": "814eb588",
   "metadata": {},
   "source": [
    "2. Найдите нормы векторов  (4,2,4)  и  (12,3,4)  и угол между ними."
   ]
  },
  {
   "cell_type": "code",
   "execution_count": 6,
   "id": "e6bbb12a",
   "metadata": {},
   "outputs": [
    {
     "name": "stdout",
     "output_type": "stream",
     "text": [
      "norm(x) = 6.0, norm(y) = 13.0, phi = 26.17695217166654 degrees\n"
     ]
    }
   ],
   "source": [
    "import numpy as np\n",
    "import math\n",
    "x = np.array([4, 2, 4])\n",
    "y = np.array([12, 3, 4])\n",
    "norm_x = np.sqrt(vect_scalar(x, x))\n",
    "norm_y = np.sqrt(vect_scalar(y, y))\n",
    "cos_phi = vect_scalar(x, y) / (norm_x * norm_y)\n",
    "print(f'norm(x) = {norm_x}, norm(y) = {norm_y}, phi = {math.acos(cos_phi)*(180/math.pi)} degrees')         "
   ]
  },
  {
   "cell_type": "code",
   "execution_count": 7,
   "id": "7a330e8f",
   "metadata": {},
   "outputs": [
    {
     "data": {
      "text/plain": [
       "(6.0, 13.0, 26.176952171666557)"
      ]
     },
     "execution_count": 7,
     "metadata": {},
     "output_type": "execute_result"
    }
   ],
   "source": [
    "#проверю\n",
    "from numpy.linalg import norm\n",
    "\n",
    "norm(x), norm(y), math.acos(x.dot(y)/norm(x)/norm(y))*(180/math.pi)"
   ]
  },
  {
   "cell_type": "markdown",
   "id": "f0b7d7ef",
   "metadata": {},
   "source": [
    "__3.__ Определите, будет ли линейное пространство евклидовым, если за скалярное произведение принять:<br>\n",
    "а) произведение длин векторов;<br>\n",
    "б) утроенное обычное скалярное произведение векторов?<br>"
   ]
  },
  {
   "cell_type": "code",
   "execution_count": 11,
   "id": "4501ab25",
   "metadata": {},
   "outputs": [
    {
     "name": "stdout",
     "output_type": "stream",
     "text": [
      "CASE A:\n",
      "True\n",
      "False\n",
      "False\n",
      "True True\n",
      "------------\n",
      "CASE B\n",
      "True\n",
      "True\n",
      "True\n",
      "True True\n"
     ]
    }
   ],
   "source": [
    "# a)\n",
    "def vect_len_mul(a, b):\n",
    "    return norm(a) * norm(b)\n",
    "\n",
    "# б)\n",
    "def triple_scalar(a, b):\n",
    "    return 3*a.dot(b)\n",
    "\n",
    "#проверка аксиом\n",
    "def check_axioms(func):\n",
    "    x = np.array([1, 2, 4])\n",
    "    y = np.array([4, 5, 6])\n",
    "    x1 = np.array([7, 8, 9])\n",
    "    x2 = np.array([2, 5, 11])\n",
    "    Lambda = 3\n",
    "    #1 (x ,y) = (y, x)\n",
    "    print(func(x, y) == func(y, x))\n",
    "    #2 (lambda*x, y) = lambda(x, y)\n",
    "    print(func(Lambda*x, y) == Lambda*func(x, y))\n",
    "    #3 (x1+x2, y) = (x1, y) + (x2)\n",
    "    print(func(x1+x2, y) == (func(x1, y) + func(x2, y)))\n",
    "    #4 (x, x) >= 0, (x, x) = 0 -> x=0\n",
    "    nul = np.array([0, 0, 0])\n",
    "    print(func(x, x) >= 0, func(nul, nul) == 0)\n",
    "\n",
    "#a)\n",
    "print(\"CASE A:\")\n",
    "check_axioms(vect_len_mul)\n",
    "print('------------')\n",
    "print('CASE B')\n",
    "check_axioms(triple_scalar)\n"
   ]
  },
  {
   "cell_type": "markdown",
   "id": "2ac3be98",
   "metadata": {},
   "source": [
    "В первом случае не выполняются 2-я и 3-я аксиомы, значит за скалярное произведение произведение длин принимать нельзя, либо это пространство не будет евклидовым. Со вторым случаем все аксиомы прошли проверку "
   ]
  },
  {
   "cell_type": "markdown",
   "id": "4b56eb66",
   "metadata": {},
   "source": [
    "__4.__ Выясните, какие из нижеперечисленных векторов образуют ортонормированный базис в линейном пространстве $\\mathbb{R}^{3}$:<br>\n",
    "а) $(1,0,0),(0,0,1);$ <br>\n",
    "б) $(1/\\sqrt{2},-1/\\sqrt{2},0),(1/\\sqrt{2},1/\\sqrt{2},0), (0,0,1);$<br>\n",
    "в) $(1/2, -1/2, 0), (0, 1/2, 1/2), (0,0,1);$<br>\n",
    "г) $(1,0,0),(0,1,0),(0,0,1)?$ \n"
   ]
  },
  {
   "cell_type": "markdown",
   "id": "e4f2d560",
   "metadata": {},
   "source": [
    "в случае г) видно без проверки, что ортонормированный базис<br>\n",
    "в случае а) не хватает одного вектора, значит случай а) не является базисом, хотя векторы перпендикулярны и единичной длины<br>\n",
    "остальные нужно проверить:"
   ]
  },
  {
   "cell_type": "code",
   "execution_count": 14,
   "id": "12d066a2",
   "metadata": {},
   "outputs": [
    {
     "data": {
      "text/plain": [
       "(0.0, 0.0, 0.0, 0.9999999999999999, 0.9999999999999999, 1.0)"
      ]
     },
     "execution_count": 14,
     "metadata": {},
     "output_type": "execute_result"
    }
   ],
   "source": [
    "# б)\n",
    "two_sqrt = 1/np.sqrt(2)\n",
    "b1 = np.array([two_sqrt, -two_sqrt, 0])\n",
    "b2 = np.array([two_sqrt, two_sqrt, 0])\n",
    "b3 = np.array([0, 0, 1])\n",
    "b1.dot(b2), b1.dot(b3), b2.dot(b3), norm(b1), norm(b2), norm(b3)"
   ]
  },
  {
   "cell_type": "markdown",
   "id": "03ef1a21",
   "metadata": {},
   "source": [
    "в случае б) базис ортонормирован"
   ]
  },
  {
   "cell_type": "code",
   "execution_count": 15,
   "id": "8ef49754",
   "metadata": {},
   "outputs": [
    {
     "data": {
      "text/plain": [
       "(-0.25, 0.0, 0.5, 0.7071067811865476, 0.7071067811865476, 1.0)"
      ]
     },
     "execution_count": 15,
     "metadata": {},
     "output_type": "execute_result"
    }
   ],
   "source": [
    "# в)\n",
    "b1 = np.array([0.5, -0.5, 0])\n",
    "b2 = np.array([0, 0.5, 0.5])\n",
    "b3 = np.array([0, 0, 1])\n",
    "b1.dot(b2), b1.dot(b3), b2.dot(b3), norm(b1), norm(b2), norm(b3)"
   ]
  },
  {
   "cell_type": "markdown",
   "id": "433702c8",
   "metadata": {},
   "source": [
    " в) не образуют ортонормированный базис"
   ]
  },
  {
   "cell_type": "code",
   "execution_count": null,
   "id": "867ded19",
   "metadata": {},
   "outputs": [],
   "source": []
  }
 ],
 "metadata": {
  "kernelspec": {
   "display_name": "Python 3 (ipykernel)",
   "language": "python",
   "name": "python3"
  },
  "language_info": {
   "codemirror_mode": {
    "name": "ipython",
    "version": 3
   },
   "file_extension": ".py",
   "mimetype": "text/x-python",
   "name": "python",
   "nbconvert_exporter": "python",
   "pygments_lexer": "ipython3",
   "version": "3.9.7"
  }
 },
 "nbformat": 4,
 "nbformat_minor": 5
}
